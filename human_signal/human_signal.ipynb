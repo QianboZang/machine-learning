{
  "nbformat": 4,
  "nbformat_minor": 0,
  "metadata": {
    "colab": {
      "provenance": [],
      "machine_shape": "hm",
      "gpuType": "T4"
    },
    "kernelspec": {
      "name": "python3",
      "display_name": "Python 3"
    },
    "language_info": {
      "name": "python"
    },
    "accelerator": "GPU"
  },
  "cells": [
    {
      "cell_type": "code",
      "execution_count": 1,
      "metadata": {
        "id": "_mJGauzWNFwa"
      },
      "outputs": [],
      "source": [
        "import os\n",
        "import numpy as np\n",
        "from tqdm import tqdm\n",
        "import pywt\n",
        "import matplotlib.pyplot as plt\n",
        "\n",
        "import torch\n",
        "import torch.nn as nn\n",
        "import torch.nn.functional as F\n",
        "import torch.optim as optim\n",
        "from torch.utils.data import TensorDataset, DataLoader\n",
        "from torchvision import transforms"
      ]
    },
    {
      "cell_type": "code",
      "source": [
        "def read_signals_ucihar(filename):\n",
        "    with open(filename, 'r') as fp:\n",
        "        data = fp.read().splitlines()\n",
        "        data = map(lambda x: x.rstrip().lstrip().split(), data)\n",
        "        data = [list(map(float, line)) for line in data]\n",
        "    return data\n",
        "\n",
        "\n",
        "def read_labels_ucihar(filename):\n",
        "    with open(filename, 'r') as fp:\n",
        "        activities = fp.read().splitlines()\n",
        "        activities = list(map(int, activities))\n",
        "    return activities"
      ],
      "metadata": {
        "id": "J0ttdMJEPoxt"
      },
      "execution_count": 2,
      "outputs": []
    },
    {
      "cell_type": "markdown",
      "source": [
        "https://archive.ics.uci.edu/dataset/240/human+activity+recognition+using+smartphones\n",
        "\n",
        "Dataset address"
      ],
      "metadata": {
        "id": "Z8IBT_s3DzMN"
      }
    },
    {
      "cell_type": "code",
      "source": [
        "folder = '/content/drive/MyDrive/data/HAR/'\n",
        "\n",
        "train_folder = folder + 'train/Inertial Signals/'\n",
        "test_folder = folder + 'test/Inertial Signals/'\n",
        "\n",
        "labelfile_train = folder + 'train/y_train.txt'\n",
        "labelfile_test = folder + 'test/y_test.txt'\n",
        "\n",
        "train_signals, test_signals = [], []\n",
        "\n",
        "for input_file in tqdm(os.listdir(train_folder)):\n",
        "    signal = read_signals_ucihar(train_folder + input_file)\n",
        "    train_signals.append(signal)\n",
        "train_signals = np.transpose(np.array(train_signals), (1, 2, 0))\n",
        "\n",
        "for input_file in tqdm(os.listdir(test_folder)):\n",
        "    signal = read_signals_ucihar(test_folder + input_file)\n",
        "    test_signals.append(signal)\n",
        "test_signals = np.transpose(np.array(test_signals), (1, 2, 0))\n",
        "\n",
        "train_labels = read_labels_ucihar(labelfile_train)\n",
        "test_labels = read_labels_ucihar(labelfile_test)"
      ],
      "metadata": {
        "colab": {
          "base_uri": "https://localhost:8080/"
        },
        "id": "0zxc8ugQPvJw",
        "outputId": "39293ea5-c3a6-4fd0-ed5a-a65ed5bbbe54"
      },
      "execution_count": 3,
      "outputs": [
        {
          "output_type": "stream",
          "name": "stderr",
          "text": [
            "100%|██████████| 9/9 [00:02<00:00,  4.10it/s]\n",
            "100%|██████████| 9/9 [00:01<00:00,  7.60it/s]\n"
          ]
        }
      ]
    },
    {
      "cell_type": "code",
      "source": [
        "scales = range(1,128)\n",
        "waveletname = 'morl'\n",
        "train_size = 5000\n",
        "test_size= 500\n",
        "\n",
        "train_data_cwt = np.ndarray(shape=(train_size, 127, 127, 9))\n",
        "\n",
        "for ii in tqdm(range(train_size)):\n",
        "    for jj in range(9):\n",
        "        signal = train_signals[ii, :, jj]\n",
        "        coeff, freq = pywt.cwt(signal, scales, waveletname, 1)\n",
        "        coeff_ = coeff[:,:127]\n",
        "        train_data_cwt[ii, :, :, jj] = coeff_\n",
        "\n",
        "test_data_cwt = np.ndarray(shape=(test_size, 127, 127, 9))\n",
        "for ii in tqdm(range(test_size)):\n",
        "    for jj in range(9):\n",
        "        signal = test_signals[ii, :, jj]\n",
        "        coeff, freq = pywt.cwt(signal, scales, waveletname, 1)\n",
        "        coeff_ = coeff[:,:127]\n",
        "        test_data_cwt[ii, :, :, jj] = coeff_\n",
        "\n",
        "uci_har_labels_train = list(map(lambda x: int(x) - 1, train_labels))\n",
        "uci_har_labels_test = list(map(lambda x: int(x) - 1, test_labels))"
      ],
      "metadata": {
        "colab": {
          "base_uri": "https://localhost:8080/"
        },
        "id": "1AkEelmeR88_",
        "outputId": "cd07fabd-a5c3-450e-de25-7ca1222aad89"
      },
      "execution_count": 4,
      "outputs": [
        {
          "output_type": "stream",
          "name": "stderr",
          "text": [
            "100%|██████████| 5000/5000 [06:31<00:00, 12.78it/s]\n",
            "100%|██████████| 500/500 [00:38<00:00, 13.08it/s]\n"
          ]
        }
      ]
    },
    {
      "cell_type": "code",
      "source": [
        "class Net(nn.Module):\n",
        "    def __init__(self, img_z, num_classes):\n",
        "        super(Net, self).__init__()\n",
        "        self.conv1 = nn.Conv2d(img_z, 32, kernel_size=5)\n",
        "        self.conv2 = nn.Conv2d(32, 64, kernel_size=5)\n",
        "        self.pool = nn.MaxPool2d(kernel_size=2, stride=2)\n",
        "        self.fc1 = nn.Linear(64 * 28 * 28, 1000)\n",
        "        self.fc2 = nn.Linear(1000, num_classes)\n",
        "        self.softmax = nn.Softmax(dim=1)\n",
        "\n",
        "    def forward(self, x):\n",
        "        x = self.conv1(x)\n",
        "        x = F.relu(x)\n",
        "        x = self.pool(x)\n",
        "        x = self.conv2(x)\n",
        "        x = F.relu(x)\n",
        "        x = self.pool(x)\n",
        "        x = x.view(x.size(0), -1)\n",
        "        x = self.fc1(x)\n",
        "        x = F.relu(x)\n",
        "        x = self.fc2(x)\n",
        "        x = self.softmax(x)\n",
        "        return x"
      ],
      "metadata": {
        "id": "LXpkSCEQTIcd"
      },
      "execution_count": 5,
      "outputs": []
    },
    {
      "cell_type": "code",
      "source": [
        "# data parameters\n",
        "img_x, img_y, img_z = 127, 127, 9\n",
        "num_classes = 7\n",
        "batch_size = 16\n",
        "n_epochs = 10\n",
        "learning_rate = 0.00001\n",
        "weight_decay = 1e-4\n",
        "m_seed = 999\n",
        "\n",
        "torch.manual_seed(m_seed)\n",
        "device = \"cuda:0\" if torch.cuda.is_available() else \"cpu\"\n",
        "device"
      ],
      "metadata": {
        "colab": {
          "base_uri": "https://localhost:8080/",
          "height": 37
        },
        "id": "y1ND6AuPVKpN",
        "outputId": "76c85c3b-9cc3-4331-942d-3b3c332dd735"
      },
      "execution_count": 6,
      "outputs": [
        {
          "output_type": "execute_result",
          "data": {
            "text/plain": [
              "'cuda:0'"
            ],
            "application/vnd.google.colaboratory.intrinsic+json": {
              "type": "string"
            }
          },
          "metadata": {},
          "execution_count": 6
        }
      ]
    },
    {
      "cell_type": "code",
      "source": [
        "x_train = train_data_cwt\n",
        "x_train = np.transpose(np.array(x_train), (0, 3, 1, 2))\n",
        "y_train = list(uci_har_labels_train[:train_size])\n",
        "\n",
        "x_test = test_data_cwt\n",
        "x_test = np.transpose(np.array(x_test), (0, 3, 1, 2))\n",
        "y_test = list(uci_har_labels_test[:test_size])\n",
        "\n",
        "x_train = torch.tensor(x_train.astype('float32'), device=device)\n",
        "x_test = torch.tensor(x_test.astype('float32'), device=device)\n",
        "\n",
        "# convert labels to one-hot encoding\n",
        "y_train = torch.tensor(np.eye(num_classes)[y_train], device=device)\n",
        "y_test = torch.tensor(np.eye(num_classes)[y_test],device=device)\n",
        "\n",
        "# create data loaders\n",
        "train_dataset = TensorDataset(x_train, y_train)\n",
        "train_loader = DataLoader(train_dataset, batch_size=batch_size, shuffle=True)\n",
        "\n",
        "test_dataset = TensorDataset(x_test, y_test)\n",
        "test_loader = DataLoader(test_dataset, batch_size=batch_size, shuffle=False)\n",
        "\n",
        "model = Net(img_z, num_classes).to(device)\n",
        "print(model)"
      ],
      "metadata": {
        "colab": {
          "base_uri": "https://localhost:8080/"
        },
        "id": "5C-ADJJ8VCqb",
        "outputId": "87ba188a-10a4-4d97-8f88-94c015b4d0be"
      },
      "execution_count": 7,
      "outputs": [
        {
          "output_type": "stream",
          "name": "stdout",
          "text": [
            "Net(\n",
            "  (conv1): Conv2d(9, 32, kernel_size=(5, 5), stride=(1, 1))\n",
            "  (conv2): Conv2d(32, 64, kernel_size=(5, 5), stride=(1, 1))\n",
            "  (pool): MaxPool2d(kernel_size=2, stride=2, padding=0, dilation=1, ceil_mode=False)\n",
            "  (fc1): Linear(in_features=50176, out_features=1000, bias=True)\n",
            "  (fc2): Linear(in_features=1000, out_features=7, bias=True)\n",
            "  (softmax): Softmax(dim=1)\n",
            ")\n"
          ]
        }
      ]
    },
    {
      "cell_type": "code",
      "source": [
        "# set loss and optimizer\n",
        "criterion = nn.CrossEntropyLoss()\n",
        "optimizer = optim.Adam(model.parameters())\n",
        "\n",
        "optimizer = optim.Adam(model.parameters(), lr=learning_rate, weight_decay=weight_decay)\n",
        "scheduler = torch.optim.lr_scheduler.OneCycleLR(optimizer, learning_rate, epochs=n_epochs, steps_per_epoch=len(train_loader))\n",
        "scaler = torch.cuda.amp.GradScaler()  # Initialize the GradScaler"
      ],
      "metadata": {
        "id": "rVmSMBJWbsgb"
      },
      "execution_count": 8,
      "outputs": []
    },
    {
      "cell_type": "code",
      "source": [
        "loss_list = []\n",
        "lr_list = []\n",
        "# training loop\n",
        "for epoch in tqdm(range(n_epochs)):\n",
        "    for inputs, labels in train_loader:\n",
        "        optimizer.zero_grad()\n",
        "\n",
        "\n",
        "        with torch.cuda.amp.autocast():\n",
        "            outputs = model(inputs)  # Forward pass\n",
        "            loss = criterion(outputs, torch.max(labels, 1)[1])  # Compute the loss\n",
        "\n",
        "        scaler.scale(loss).backward()  # Scale the loss and perform backward pass\n",
        "\n",
        "        scaler.step(optimizer)  # Update model parameters\n",
        "        scaler.update()  # Update the scale factor for the next iteration\n",
        "        scheduler.step()\n",
        "\n",
        "        loss_list.append(loss.item())\n",
        "        lr_list.append(optimizer.param_groups[0][\"lr\"])"
      ],
      "metadata": {
        "colab": {
          "base_uri": "https://localhost:8080/"
        },
        "id": "g-Ew01juVmXV",
        "outputId": "d784972f-d9d7-432c-ac47-fab86c497ab6"
      },
      "execution_count": 9,
      "outputs": [
        {
          "output_type": "stream",
          "name": "stderr",
          "text": [
            "100%|██████████| 10/10 [01:37<00:00,  9.78s/it]\n"
          ]
        }
      ]
    },
    {
      "cell_type": "code",
      "source": [
        "plt.plot(lr_list)"
      ],
      "metadata": {
        "id": "CpCc_qsnN4eT",
        "colab": {
          "base_uri": "https://localhost:8080/",
          "height": 462
        },
        "outputId": "ef9c5e34-eb4f-452c-eaf8-cae1c9a432a7"
      },
      "execution_count": 10,
      "outputs": [
        {
          "output_type": "execute_result",
          "data": {
            "text/plain": [
              "[<matplotlib.lines.Line2D at 0x7fbedc4e3550>]"
            ]
          },
          "metadata": {},
          "execution_count": 10
        },
        {
          "output_type": "display_data",
          "data": {
            "text/plain": [
              "<Figure size 640x480 with 1 Axes>"
            ],
            "image/png": "[encoded data removed]"
          },
          "metadata": {}
        }
      ]
    },
    {
      "cell_type": "code",
      "source": [
        "plt.plot(loss_list)"
      ],
      "metadata": {
        "id": "pVEuUWDVWNTF",
        "colab": {
          "base_uri": "https://localhost:8080/",
          "height": 447
        },
        "outputId": "062fea79-845f-408b-9627-e0311c322393"
      },
      "execution_count": 11,
      "outputs": [
        {
          "output_type": "execute_result",
          "data": {
            "text/plain": [
              "[<matplotlib.lines.Line2D at 0x7fbedd1e05e0>]"
            ]
          },
          "metadata": {},
          "execution_count": 11
        },
        {
          "output_type": "display_data",
          "data": {
            "text/plain": [
              "<Figure size 640x480 with 1 Axes>"
            ],
            "image/png": "[encoded data removed]"
          },
          "metadata": {}
        }
      ]
    },
    {
      "cell_type": "code",
      "source": [
        "# model evaluation\n",
        "def evaluate(data_loader):\n",
        "    model.eval()\n",
        "    correct = 0\n",
        "    total = 0\n",
        "    with torch.no_grad():\n",
        "        for inputs, labels in data_loader:\n",
        "            outputs = model(inputs)\n",
        "            _, predicted = torch.max(outputs.data, 1)\n",
        "            _, true_labels = torch.max(labels.data, 1)\n",
        "            total += true_labels.size(0)\n",
        "            correct += (predicted == true_labels).sum().item()\n",
        "\n",
        "    print('Accuracy: {:.2f}%'.format(100 * correct / total))\n",
        "\n",
        "print('Train: ')\n",
        "evaluate(train_loader)\n",
        "print('Test: ')\n",
        "evaluate(test_loader)"
      ],
      "metadata": {
        "id": "J5ZeyPT4a-ux",
        "colab": {
          "base_uri": "https://localhost:8080/"
        },
        "outputId": "f4ecec34-0663-4cd0-98eb-92a685a652ed"
      },
      "execution_count": 12,
      "outputs": [
        {
          "output_type": "stream",
          "name": "stdout",
          "text": [
            "Train: \n",
            "Accuracy: 95.78%\n",
            "Test: \n",
            "Accuracy: 81.40%\n"
          ]
        }
      ]
    },
    {
      "cell_type": "code",
      "source": [],
      "metadata": {
        "id": "aLg-W-W77CCb"
      },
      "execution_count": 12,
      "outputs": []
    }
  ]
}